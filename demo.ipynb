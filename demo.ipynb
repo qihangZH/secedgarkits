{
 "cells": [
  {
   "cell_type": "code",
   "execution_count": 10,
   "metadata": {
    "collapsed": true
   },
   "outputs": [],
   "source": [
    "import secedgarkits\n",
    "import os\n",
    "import secedgar.parser\n",
    "import json\n",
    "from secedgarkits.IO import read_file"
   ]
  },
  {
   "cell_type": "code",
   "execution_count": 11,
   "outputs": [],
   "source": [
    "def list_files(startpath):\n",
    "    for root, dirs, files in os.walk(startpath):\n",
    "        level = root.replace(startpath, '').count(os.sep)\n",
    "        indent = ' ' * 4 * (level)\n",
    "        print(f\"{indent}{os.path.basename(root)}/\")\n",
    "        subindent = ' ' * 4 * (level + 1)\n",
    "        for f in files:\n",
    "            print(f\"{subindent}{f}\")"
   ],
   "metadata": {
    "collapsed": false
   }
  },
  {
   "cell_type": "code",
   "execution_count": 12,
   "outputs": [],
   "source": [
    "URL = r'https://www.sec.gov/Archives/edgar/data/104169/0000104169-22-000012.txt'\n",
    "\n",
    "secedgarkits.IO.download_secedgar(\n",
    "    URL, os.path.join('./sample/',\n",
    "                      f'0000104169-22-000012.txt')\n",
    ")"
   ],
   "metadata": {
    "collapsed": false
   }
  },
  {
   "cell_type": "code",
   "execution_count": 13,
   "outputs": [
    {
     "name": "stderr",
     "output_type": "stream",
     "text": [
      "Warning: Trailing garbage\n",
      "Warning: Trailing garbage\n",
      "Warning: Trailing garbage\n"
     ]
    }
   ],
   "source": [
    "# decompose to folder\n",
    "secedgar.parser.MetaParser().process(\n",
    "    os.path.join('./sample/',\n",
    "                 f'0000104169-22-000012.txt'),\n",
    "    f'./sample/'\n",
    ")"
   ],
   "metadata": {
    "collapsed": false
   }
  },
  {
   "cell_type": "code",
   "execution_count": 14,
   "outputs": [
    {
     "name": "stdout",
     "output_type": "stream",
     "text": [
      "0000104169-22-000012/\n",
      "    0.0000104169-22-000012-xbrl.zip\n",
      "    0.FilingSummary.xml\n",
      "    0.Financial_Report.xlsx\n",
      "    0.metadata.json\n",
      "    0.MetaLinks.json\n",
      "    0.R1.htm\n",
      "    0.R10.htm\n",
      "    0.R11.htm\n",
      "    0.R12.htm\n",
      "    0.R13.htm\n",
      "    0.R14.htm\n",
      "    0.R15.htm\n",
      "    0.R16.htm\n",
      "    0.R17.htm\n",
      "    0.R18.htm\n",
      "    0.R19.htm\n",
      "    0.R2.htm\n",
      "    0.R20.htm\n",
      "    0.R21.htm\n",
      "    0.R22.htm\n",
      "    0.R23.htm\n",
      "    0.R24.htm\n",
      "    0.R25.htm\n",
      "    0.R26.htm\n",
      "    0.R27.htm\n",
      "    0.R28.htm\n",
      "    0.R29.htm\n",
      "    0.R3.htm\n",
      "    0.R30.htm\n",
      "    0.R31.htm\n",
      "    0.R32.htm\n",
      "    0.R33.htm\n",
      "    0.R34.htm\n",
      "    0.R35.htm\n",
      "    0.R36.htm\n",
      "    0.R37.htm\n",
      "    0.R38.htm\n",
      "    0.R39.htm\n",
      "    0.R4.htm\n",
      "    0.R40.htm\n",
      "    0.R41.htm\n",
      "    0.R42.htm\n",
      "    0.R43.htm\n",
      "    0.R44.htm\n",
      "    0.R45.htm\n",
      "    0.R46.htm\n",
      "    0.R47.htm\n",
      "    0.R48.htm\n",
      "    0.R49.htm\n",
      "    0.R5.htm\n",
      "    0.R50.htm\n",
      "    0.R51.htm\n",
      "    0.R52.htm\n",
      "    0.R53.htm\n",
      "    0.R54.htm\n",
      "    0.R55.htm\n",
      "    0.R56.htm\n",
      "    0.R57.htm\n",
      "    0.R58.htm\n",
      "    0.R59.htm\n",
      "    0.R6.htm\n",
      "    0.R60.htm\n",
      "    0.R61.htm\n",
      "    0.R62.htm\n",
      "    0.R63.htm\n",
      "    0.R64.htm\n",
      "    0.R65.htm\n",
      "    0.R66.htm\n",
      "    0.R67.htm\n",
      "    0.R68.htm\n",
      "    0.R69.htm\n",
      "    0.R7.htm\n",
      "    0.R70.htm\n",
      "    0.R71.htm\n",
      "    0.R72.htm\n",
      "    0.R73.htm\n",
      "    0.R74.htm\n",
      "    0.R75.htm\n",
      "    0.R76.htm\n",
      "    0.R77.htm\n",
      "    0.R78.htm\n",
      "    0.R79.htm\n",
      "    0.R8.htm\n",
      "    0.R9.htm\n",
      "    0.report.css\n",
      "    0.Show.js\n",
      "    0.wmt-20220131.htm\n",
      "    0.wmt-20220131.xsd\n",
      "    0.wmt-20220131_cal.xml\n",
      "    0.wmt-20220131_def.xml\n",
      "    0.wmt-20220131_g1.jpg\n",
      "    0.wmt-20220131_g2.jpg\n",
      "    0.wmt-20220131_htm.xml\n",
      "    0.wmt-20220131_lab.xml\n",
      "    0.wmt-20220131_pre.xml\n",
      "    0.wmtexhibit101fy22.htm\n",
      "    0.wmtexhibit108fy22.htm\n",
      "    0.wmtexhibit109fy22.htm\n",
      "    0.wmtexhibit21fy22.htm\n",
      "    0.wmtexhibit23fy22.htm\n",
      "    0.wmtexhibit311fy22q4.htm\n",
      "    0.wmtexhibit312fy22q4.htm\n",
      "    0.wmtexhibit321fy22q4.htm\n",
      "    0.wmtexhibit322fy22q4.htm\n",
      "    0.wmtexhibit991fy22.htm\n"
     ]
    }
   ],
   "source": [
    "list_files('./sample/0000104169-22-000012')"
   ],
   "metadata": {
    "collapsed": false
   }
  },
  {
   "cell_type": "markdown",
   "source": [
    "MENTIONED: The 0 prefix means they are same series when extracting the data from 0000104169-22-000012.txt.\n",
    "\n",
    "IF <SEC-DOCUMENT> or more then one document series is in the same file, then each number prefix means different series.\n",
    "\n",
    "Most time 0 for most txt contains only one document series. Or you combine all the series into one file."
   ],
   "metadata": {
    "collapsed": false
   }
  },
  {
   "cell_type": "code",
   "execution_count": 15,
   "outputs": [
    {
     "data": {
      "text/plain": "[{'filename': 'wmt-20220131.htm', 'sequence': '1', 'type': '10-K'}]"
     },
     "execution_count": 15,
     "metadata": {},
     "output_type": "execute_result"
    }
   ],
   "source": [
    "# find the metadata and find the 10-K file\n",
    "with open('./sample/0000104169-22-000012/0.metadata.json') as f:\n",
    "    metadata_dict = json.load(f)\n",
    "\n",
    "[i for i in metadata_dict['documents'] if i['type'] == '10-K']"
   ],
   "metadata": {
    "collapsed": false
   }
  },
  {
   "cell_type": "code",
   "execution_count": 16,
   "outputs": [
    {
     "data": {
      "text/plain": "          start_index  end_index  \\\nitem_num                           \n1              305085     410192   \n1A             410192     510577   \n1B             510577     512015   \n2              512015     715848   \n3              715848     736833   \n4              736833     738562   \n5              738562     767829   \n6              767829     769137   \n7              769137    1092053   \n7A            1092053    1143046   \n8             1143046    2969923   \n9             2969923    2971027   \n9A            2971027    2977513   \n9B            2977513    2978528   \n9C            2978528    2980305   \n10            2980305    2984524   \n11            2984524    2985792   \n12            2985792    2987079   \n13            2987079    2988385   \n14            2988385    2990326   \n15            2990326    3049611   \n16            3049611    3092751   \n\n                                               segment_html  \nitem_num                                                     \n1         </td><td style=\"width:0.1%\"></td></tr><tr><td ...  \n1A        </td><td style=\"width:0.1%\"></td></tr><tr><td ...  \n1B        </td><td style=\"width:0.1%\"></td></tr><tr><td ...  \n2         </td><td style=\"width:0.1%\"></td></tr><tr><td ...  \n3         </td><td style=\"width:0.1%\"></td></tr><tr><td ...  \n4         </td><td style=\"width:0.1%\"></td></tr><tr><td ...  \n5         </td><td style=\"width:0.1%\"></td></tr><tr><td ...  \n6         </td><td style=\"width:0.1%\"></td></tr><tr><td ...  \n7         </td><td style=\"width:0.1%\"></td></tr><tr><td ...  \n7A        </td><td style=\"width:0.1%\"></td></tr><tr><td ...  \n8         </td><td style=\"width:0.1%\"></td></tr><tr><td ...  \n9         </td><td style=\"width:0.1%\"></td></tr><tr><td ...  \n9A        </td><td style=\"width:0.1%\"></td></tr><tr><td ...  \n9B        </td><td style=\"width:0.1%\"></td></tr><tr><td ...  \n9C        </td><td style=\"width:0.1%\"></td></tr><tr><td ...  \n10        </td><td style=\"width:0.1%\"></td></tr><tr><td ...  \n11        </td><td style=\"width:0.1%\"></td></tr><tr><td ...  \n12        </td><td style=\"width:0.1%\"></td></tr><tr><td ...  \n13        </td><td style=\"width:0.1%\"></td></tr><tr><td ...  \n14        </td><td style=\"width:0.1%\"></td></tr><tr><td ...  \n15        </td><td style=\"width:0.1%\"></td></tr><tr><td ...  \n16        </td><td style=\"width:0.1%\"></td></tr><tr><td ...  ",
      "text/html": "<div>\n<style scoped>\n    .dataframe tbody tr th:only-of-type {\n        vertical-align: middle;\n    }\n\n    .dataframe tbody tr th {\n        vertical-align: top;\n    }\n\n    .dataframe thead th {\n        text-align: right;\n    }\n</style>\n<table border=\"1\" class=\"dataframe\">\n  <thead>\n    <tr style=\"text-align: right;\">\n      <th></th>\n      <th>start_index</th>\n      <th>end_index</th>\n      <th>segment_html</th>\n    </tr>\n    <tr>\n      <th>item_num</th>\n      <th></th>\n      <th></th>\n      <th></th>\n    </tr>\n  </thead>\n  <tbody>\n    <tr>\n      <th>1</th>\n      <td>305085</td>\n      <td>410192</td>\n      <td>&lt;/td&gt;&lt;td style=\"width:0.1%\"&gt;&lt;/td&gt;&lt;/tr&gt;&lt;tr&gt;&lt;td ...</td>\n    </tr>\n    <tr>\n      <th>1A</th>\n      <td>410192</td>\n      <td>510577</td>\n      <td>&lt;/td&gt;&lt;td style=\"width:0.1%\"&gt;&lt;/td&gt;&lt;/tr&gt;&lt;tr&gt;&lt;td ...</td>\n    </tr>\n    <tr>\n      <th>1B</th>\n      <td>510577</td>\n      <td>512015</td>\n      <td>&lt;/td&gt;&lt;td style=\"width:0.1%\"&gt;&lt;/td&gt;&lt;/tr&gt;&lt;tr&gt;&lt;td ...</td>\n    </tr>\n    <tr>\n      <th>2</th>\n      <td>512015</td>\n      <td>715848</td>\n      <td>&lt;/td&gt;&lt;td style=\"width:0.1%\"&gt;&lt;/td&gt;&lt;/tr&gt;&lt;tr&gt;&lt;td ...</td>\n    </tr>\n    <tr>\n      <th>3</th>\n      <td>715848</td>\n      <td>736833</td>\n      <td>&lt;/td&gt;&lt;td style=\"width:0.1%\"&gt;&lt;/td&gt;&lt;/tr&gt;&lt;tr&gt;&lt;td ...</td>\n    </tr>\n    <tr>\n      <th>4</th>\n      <td>736833</td>\n      <td>738562</td>\n      <td>&lt;/td&gt;&lt;td style=\"width:0.1%\"&gt;&lt;/td&gt;&lt;/tr&gt;&lt;tr&gt;&lt;td ...</td>\n    </tr>\n    <tr>\n      <th>5</th>\n      <td>738562</td>\n      <td>767829</td>\n      <td>&lt;/td&gt;&lt;td style=\"width:0.1%\"&gt;&lt;/td&gt;&lt;/tr&gt;&lt;tr&gt;&lt;td ...</td>\n    </tr>\n    <tr>\n      <th>6</th>\n      <td>767829</td>\n      <td>769137</td>\n      <td>&lt;/td&gt;&lt;td style=\"width:0.1%\"&gt;&lt;/td&gt;&lt;/tr&gt;&lt;tr&gt;&lt;td ...</td>\n    </tr>\n    <tr>\n      <th>7</th>\n      <td>769137</td>\n      <td>1092053</td>\n      <td>&lt;/td&gt;&lt;td style=\"width:0.1%\"&gt;&lt;/td&gt;&lt;/tr&gt;&lt;tr&gt;&lt;td ...</td>\n    </tr>\n    <tr>\n      <th>7A</th>\n      <td>1092053</td>\n      <td>1143046</td>\n      <td>&lt;/td&gt;&lt;td style=\"width:0.1%\"&gt;&lt;/td&gt;&lt;/tr&gt;&lt;tr&gt;&lt;td ...</td>\n    </tr>\n    <tr>\n      <th>8</th>\n      <td>1143046</td>\n      <td>2969923</td>\n      <td>&lt;/td&gt;&lt;td style=\"width:0.1%\"&gt;&lt;/td&gt;&lt;/tr&gt;&lt;tr&gt;&lt;td ...</td>\n    </tr>\n    <tr>\n      <th>9</th>\n      <td>2969923</td>\n      <td>2971027</td>\n      <td>&lt;/td&gt;&lt;td style=\"width:0.1%\"&gt;&lt;/td&gt;&lt;/tr&gt;&lt;tr&gt;&lt;td ...</td>\n    </tr>\n    <tr>\n      <th>9A</th>\n      <td>2971027</td>\n      <td>2977513</td>\n      <td>&lt;/td&gt;&lt;td style=\"width:0.1%\"&gt;&lt;/td&gt;&lt;/tr&gt;&lt;tr&gt;&lt;td ...</td>\n    </tr>\n    <tr>\n      <th>9B</th>\n      <td>2977513</td>\n      <td>2978528</td>\n      <td>&lt;/td&gt;&lt;td style=\"width:0.1%\"&gt;&lt;/td&gt;&lt;/tr&gt;&lt;tr&gt;&lt;td ...</td>\n    </tr>\n    <tr>\n      <th>9C</th>\n      <td>2978528</td>\n      <td>2980305</td>\n      <td>&lt;/td&gt;&lt;td style=\"width:0.1%\"&gt;&lt;/td&gt;&lt;/tr&gt;&lt;tr&gt;&lt;td ...</td>\n    </tr>\n    <tr>\n      <th>10</th>\n      <td>2980305</td>\n      <td>2984524</td>\n      <td>&lt;/td&gt;&lt;td style=\"width:0.1%\"&gt;&lt;/td&gt;&lt;/tr&gt;&lt;tr&gt;&lt;td ...</td>\n    </tr>\n    <tr>\n      <th>11</th>\n      <td>2984524</td>\n      <td>2985792</td>\n      <td>&lt;/td&gt;&lt;td style=\"width:0.1%\"&gt;&lt;/td&gt;&lt;/tr&gt;&lt;tr&gt;&lt;td ...</td>\n    </tr>\n    <tr>\n      <th>12</th>\n      <td>2985792</td>\n      <td>2987079</td>\n      <td>&lt;/td&gt;&lt;td style=\"width:0.1%\"&gt;&lt;/td&gt;&lt;/tr&gt;&lt;tr&gt;&lt;td ...</td>\n    </tr>\n    <tr>\n      <th>13</th>\n      <td>2987079</td>\n      <td>2988385</td>\n      <td>&lt;/td&gt;&lt;td style=\"width:0.1%\"&gt;&lt;/td&gt;&lt;/tr&gt;&lt;tr&gt;&lt;td ...</td>\n    </tr>\n    <tr>\n      <th>14</th>\n      <td>2988385</td>\n      <td>2990326</td>\n      <td>&lt;/td&gt;&lt;td style=\"width:0.1%\"&gt;&lt;/td&gt;&lt;/tr&gt;&lt;tr&gt;&lt;td ...</td>\n    </tr>\n    <tr>\n      <th>15</th>\n      <td>2990326</td>\n      <td>3049611</td>\n      <td>&lt;/td&gt;&lt;td style=\"width:0.1%\"&gt;&lt;/td&gt;&lt;/tr&gt;&lt;tr&gt;&lt;td ...</td>\n    </tr>\n    <tr>\n      <th>16</th>\n      <td>3049611</td>\n      <td>3092751</td>\n      <td>&lt;/td&gt;&lt;td style=\"width:0.1%\"&gt;&lt;/td&gt;&lt;/tr&gt;&lt;tr&gt;&lt;td ...</td>\n    </tr>\n  </tbody>\n</table>\n</div>"
     },
     "execution_count": 16,
     "metadata": {},
     "output_type": "execute_result"
    }
   ],
   "source": [
    "parsed10k_df = secedgarkits.ParserT.parser_10k_10q_df(\n",
    "    read_file(os.path.join('./sample/', '0000104169-22-000012', '0.wmt-20220131.htm'))\n",
    ").set_index('item_num')\n",
    "parsed10k_df"
   ],
   "metadata": {
    "collapsed": false
   }
  },
  {
   "cell_type": "code",
   "execution_count": 17,
   "outputs": [
    {
     "name": "stdout",
     "output_type": "stream",
     "text": [
      "| ITEM 1A.| RISK FACTORS  \n",
      "  \n",
      "The risks described below could, in ways we may or may not be able to\n",
      "accurately predict, materially and adversely affect our business, results of\n",
      "operations, financial position and liquidity. Our business operations could\n",
      "also be affected by additional factors that apply to all companies operating\n",
      "in the U.S. and globally. The following risk factors do not identify all risks\n",
      "that we may face.\n",
      "\n",
      "Strategic Risks\n",
      "\n",
      "Failure to successfully execute our omni-channel strategy and the cost of our\n",
      "investments in eCommerce and technology may materially adversely affect our\n",
      "market position, net sales and financial performance.\n",
      "\n",
      "The retail business continues to rapidly evolve and consumers increasingly\n",
      "embrace digital shopping. As a result, the portion of total consumer\n",
      "expenditures with retailers and wholesale clubs occurring through digital\n",
      "platforms is increasing and the pace of this increase could continue to\n",
      "accelerate.\n",
      "\n",
      "Our strategy, which includes investments in\n"
     ]
    }
   ],
   "source": [
    "print(secedgarkits.IO.get_html_text(\n",
    "    parsed10k_df['segment_html'].loc['1A']\n",
    ")[:1000])"
   ],
   "metadata": {
    "collapsed": false
   }
  },
  {
   "cell_type": "code",
   "execution_count": 18,
   "outputs": [
    {
     "name": "stdout",
     "output_type": "stream",
     "text": [
      "| ITEM 7.| MANAGEMENT'S DISCUSSION AND ANALYSIS OF FINANCIAL CONDITION AND\n",
      "RESULTS OF OPERATIONS  \n",
      "  \n",
      "Overview\n",
      "\n",
      "This discussion, which presents our results for the fiscal years ended January\n",
      "31, 2022 (\"fiscal 2022\"), January 31, 2021 (\"fiscal 2021\") and January 31,\n",
      "2020 (\"fiscal 2020\"), should be read in conjunction with our Consolidated\n",
      "Financial Statements and the accompanying notes. We intend for this discussion\n",
      "to provide the reader with information that will assist in understanding our\n",
      "financial statements, the changes in certain key items in those financial\n",
      "statements from period to period and the primary factors that accounted for\n",
      "those changes. We also discuss certain performance metrics that management\n",
      "uses to assess the Company's performance. Additionally, the discussion\n",
      "provides information about the financial results of each of the three segments\n",
      "to provide a better understanding of how each of those segments and its\n",
      "results of operations affect the financial position and r\n"
     ]
    }
   ],
   "source": [
    "print(secedgarkits.IO.get_html_text(\n",
    "    parsed10k_df['segment_html'].loc['7']\n",
    ")[:1000])"
   ],
   "metadata": {
    "collapsed": false
   }
  }
 ],
 "metadata": {
  "kernelspec": {
   "display_name": "Python 3",
   "language": "python",
   "name": "python3"
  },
  "language_info": {
   "codemirror_mode": {
    "name": "ipython",
    "version": 2
   },
   "file_extension": ".py",
   "mimetype": "text/x-python",
   "name": "python",
   "nbconvert_exporter": "python",
   "pygments_lexer": "ipython2",
   "version": "2.7.6"
  }
 },
 "nbformat": 4,
 "nbformat_minor": 0
}
